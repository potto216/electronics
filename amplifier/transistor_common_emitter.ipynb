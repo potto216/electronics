{
 "cells": [
  {
   "cell_type": "code",
   "execution_count": 1,
   "metadata": {},
   "outputs": [],
   "source": [
    "import numpy as np"
   ]
  },
  {
   "cell_type": "markdown",
   "metadata": {},
   "source": [
    "This evaluates the circuit \n",
    "<img src=\"./images/common_emitter_amplifier.PNG\" />"
   ]
  },
  {
   "cell_type": "code",
   "execution_count": 21,
   "metadata": {},
   "outputs": [],
   "source": [
    "def eval_common_emtter_amp_circuit(val):\n",
    "    Vdc_th = val['Vcc'] * (val['R2']/(val['R1'] + val['R2']))\n",
    "    Rb_th = 1.0 / (1.0/val['R1'] + 1.0/val['R2'])    \n",
    "\n",
    "    #KVL\n",
    "    #Ie = (beta + 1)*Ib\n",
    "    # Vth - Rth*Ib - Vbe - Re*Ie \n",
    "    #= Vth - Rth*Ib - Vbe - Re*(beta + 1)*Ib\n",
    "    #Vth - Vbe  = Rth*Ib + Re*(beta + 1)*Ib\n",
    "    #Ib = (Vth - Vbe) / (Rth + Re*(beta + 1))\n",
    "    Ib = (Vdc_th - val['Vbe']) / (Rb_th + val['Re']*(val['beta'] + 1))\n",
    "    Ic = val['beta'] * Ib\n",
    "    Ie = (val['beta'] + 1) * Ib\n",
    "    Vce = val['Vcc'] - Ic*val['Rc'] - Ie*val['Re']\n",
    "    Ic_saturated = val['Vcc']/(val['Rc'] + val['Re'])\n",
    "    Vce_off = val['Vcc']\n",
    "    dc_analysis = {\n",
    "    #Compute the parallel values for the base\n",
    "    'Vdc_th': Vdc_th,\n",
    "    'Rb_th': Rb_th,\n",
    "\n",
    "    #KVL\n",
    "    #Ie = (beta + 1)*Ib\n",
    "    # Vth - Rth*Ib - Vbe - Re*Ie \n",
    "    #= Vth - Rth*Ib - Vbe - Re*(beta + 1)*Ib\n",
    "    #Vth - Vbe  = Rth*Ib + Re*(beta + 1)*Ib\n",
    "    #Ib = (Vth - Vbe) / (Rth + Re*(beta + 1))\n",
    "    'Ib': Ib,\n",
    "    'Ic': Ic,\n",
    "    'Ic_saturated': Ic_saturated,\n",
    "    'Ie': Ie,\n",
    "    'Vce': Vce,\n",
    "    'Vce_off': Vce_off,\n",
    "    }\n",
    "    \n",
    "    re = 26e-3 / Ie\n",
    "    \n",
    "    \n",
    "    #Avoc = Vout/Vin = -Rc*ic/(re*ie) = -Rc*beta*ib/(re*(1+beta)*ib) \n",
    "    #Avoc = -Rc/re\n",
    "    Avoc = (-val['Rc']*(val['beta'])) / (re*(val['beta']+1))\n",
    "    \n",
    "    #ZinQ = Vin /iin = re*ie/ib =  re*(beta+1)*ib/ib = re*(beta+1)    \n",
    "    ZinQ = re*(val['beta']+1)\n",
    "    \n",
    "    #Zin = Rb_th || ZinQ\n",
    "    Zin = 1/(1/Rb_th +1/ZinQ)\n",
    "    \n",
    "    Zout = val['Rc']\n",
    "    ac_analysis = {'re': re, 'Avoc': Avoc, 'ZinQ':ZinQ }\n",
    "    amplifier = {'Zin': Zin, 'Zout': Zout, 'gain': Avoc}\n",
    "\n",
    "    analysis = {'dc': dc_analysis, 'ac': ac_analysis, 'amplifier': amplifier}\n",
    "    \n",
    "    \n",
    "    return analysis"
   ]
  },
  {
   "cell_type": "code",
   "execution_count": 28,
   "metadata": {},
   "outputs": [
    {
     "name": "stdout",
     "output_type": "stream",
     "text": [
      "Ib = 1.878e-05A, Ic = 5.633e-03A\n",
      "Vth = 1.30V, Rb_th = 2087 ohms\n",
      "The Q point is Vce = 3.80V, Ic = 5.633e-03A\n",
      "re = 4.600e+00 ohm\n",
      "The predicted opn load voltage gain is -216.648136410395 or 46.71509915241476 dB\n"
     ]
    }
   ],
   "source": [
    "\n",
    "common_emtter_amp_circuit = {\n",
    "    'Vcc': 10, \n",
    "    'R1': 16e3,\n",
    "    'R2': 2.4e3,\n",
    "    'Rc': 1e3,\n",
    "    'Re': 100,\n",
    "    #This circuit is fairly indepedent of beta (100-300)\n",
    "    'beta': 300,\n",
    "    'Vbe': 0.7\n",
    "}\n",
    "\n",
    "#Loop through betas\n",
    "analysis = eval_common_emtter_amp_circuit(common_emtter_amp_circuit)\n",
    "\n",
    "RLoad=1000\n",
    "print(f\"Ib = {analysis['dc']['Ib']:0.3e}A, Ic = {analysis['dc']['Ic']:.3e}A\")\n",
    "print(f\"Vth = {analysis['dc']['Vdc_th']:0.2f}V, Rb_th = {analysis['dc']['Rb_th']:.0f} ohms\")   \n",
    "print(f\"The Q point is Vce = {analysis['dc']['Vce']:0.2f}V, Ic = {analysis['dc']['Ic']:.3e}A\")\n",
    "print(f\"re = {analysis['ac']['re']:0.3e} ohm\")\n",
    "      \n",
    "# The reason the circuit \n",
    "print(f\"The predicted open load voltage gain is {analysis['amplifier']['gain']} or {20*np.log10(np.abs(analysis['amplifier']['gain']))} dB\")\n",
    "      "
   ]
  },
  {
   "cell_type": "code",
   "execution_count": null,
   "metadata": {},
   "outputs": [],
   "source": [
    "#"
   ]
  }
 ],
 "metadata": {
  "kernelspec": {
   "display_name": "Python 3",
   "language": "python",
   "name": "python3"
  },
  "language_info": {
   "codemirror_mode": {
    "name": "ipython",
    "version": 3
   },
   "file_extension": ".py",
   "mimetype": "text/x-python",
   "name": "python",
   "nbconvert_exporter": "python",
   "pygments_lexer": "ipython3",
   "version": "3.7.4"
  }
 },
 "nbformat": 4,
 "nbformat_minor": 2
}
