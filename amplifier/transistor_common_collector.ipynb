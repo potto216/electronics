{
 "cells": [
  {
   "cell_type": "code",
   "execution_count": 2,
   "metadata": {},
   "outputs": [],
   "source": [
    "import numpy as np"
   ]
  },
  {
   "cell_type": "markdown",
   "metadata": {},
   "source": [
    "This evaluates the circuit \n",
    "<img src=\"./images/common_collector_amplifier.PNG\" />"
   ]
  },
  {
   "cell_type": "code",
   "execution_count": 11,
   "metadata": {},
   "outputs": [],
   "source": [
    "def eval_common_collector_amp_circuit(val, R_Source, R_Load):\n",
    "    Vdc_th = val['Vcc'] * (val['R2']/(val['R1'] + val['R2']))\n",
    "    Rb_th = 1.0 / (1.0/val['R1'] + 1.0/val['R2'])    \n",
    "\n",
    "    #KVL for DC characteristics\n",
    "    #Ie = (beta + 1)*Ib\n",
    "    # Vdc_th - Ib*Rb_th - Vbe - Ie*Re = 0V\n",
    "    # Vdc_th - Ib*Rb_th - Vbe - (beta + 1)*Ib*Re = 0V\n",
    "    # Vdc_th - Vbe = Ib*Rb_th + (beta + 1)*Ib*Re\n",
    "    # Ib * (Rb_th + (beta + 1)*Re) = Vdc_th - Vbe\n",
    "    # Ib = (Vdc_th - Vbe)/(Rb_th + (beta + 1)*Re)\n",
    "        \n",
    "    Ib = (Vdc_th - val['Vbe']) / (Rb_th + val['Re']*(val['beta'] + 1))\n",
    "    Ic = val['beta'] * Ib\n",
    "    Ie = (val['beta'] + 1) * Ib\n",
    "    \n",
    "    #KVL \n",
    "    #Vcc - Vce - Ie*Re = 0\n",
    "    #Vce = Vcc - Ie*Re\n",
    "    Vce = val['Vcc'] - Ie*val['Re']\n",
    "    \n",
    "    dc_analysis = {\n",
    "\n",
    "    #The parallel values for the base\n",
    "    'Vdc_th': Vdc_th,\n",
    "    'Rb_th': Rb_th,\n",
    "    'Vce': Vce,\n",
    "    'Ib': Ib,\n",
    "    'Ic': Ic,\n",
    "    'Ie': Ie,\n",
    "    }\n",
    "    \n",
    "    re = 26e-3 / Ie\n",
    "    \n",
    "    \n",
    "    #Avoc = Vout/Vin = ie*Re/(ie*(re+Re)) = Re/(re+Re)\n",
    "    Avoc = val['Re']/(re+val['Re'])\n",
    "    \n",
    "    #Av = Vout/Vin = (ie(Re || Rl))/(ie*(re+Re||Rl))\n",
    "    \n",
    "    #ZinQ = vin/iin = (ie*(re + Re||Rl))/ib = ((beta+1)*ib*(re + Re||Rl))/ib\n",
    "    #ZinQ = (beta + 1)*(re + Re||Rl)\n",
    "    ZinQ = (val['beta'] + 1)*(re + 1/(1/val['Re'] + 1/R_Load))\n",
    "    \n",
    "    #Zin = Rb_th || ZinQ \n",
    "    Zin = 1/(1/Rb_th +1/ZinQ)\n",
    "    \n",
    "    #Zoutb = vb/ie = ib*(Rs||Rb)/ie = ib*(Rs||Rb)/((beta+1)*ib) = (Rs||Rb)/(beta+1)\n",
    "    Zoutb = (1/(1/R_Source+1/Rb_th))/(val['beta']+1)\n",
    "    \n",
    "    #ZoutQ = re + Zoutb\n",
    "    ZoutQ = re + Zoutb\n",
    "    \n",
    "    #Zout = Re || ZoutQ\n",
    "    Zout = 1/(1/val['Re'] + 1/ZoutQ)\n",
    "    \n",
    "    ac_analysis = {'re': re, 'Avoc': Avoc}\n",
    "    amplifier = {'Zin': Zin, 'Zout': Zout, 'gain': Avoc, 'Zoutb':Zoutb, 'ZoutQ':ZoutQ}\n",
    "\n",
    "    analysis = {'dc': dc_analysis, 'ac': ac_analysis, 'amplifier': amplifier}\n",
    "    \n",
    "    \n",
    "    return analysis"
   ]
  },
  {
   "cell_type": "code",
   "execution_count": 17,
   "metadata": {},
   "outputs": [
    {
     "name": "stdout",
     "output_type": "stream",
     "text": [
      "Ib = 1.878e-05A, Ic = 5.633e-03A\n",
      "Vth = 1.30V, Rb_th = 2087 ohms\n",
      "The Q point is Vce = 9.43V, Ic = 5.633e-03A\n",
      "re = 4.600e+00 ohm\n",
      "The predicted open load voltage gain is 0.9560188813671946 or -0.3906706065155055 dB\n",
      "Amplifier Zin = 1764.5 ohms, Zout = 6.4 ohms, Zoutb = 2.2 ohms, ZoutQ = 6.8 ohms\n"
     ]
    }
   ],
   "source": [
    "\n",
    "common_collector_amp_circuit = {\n",
    "    'Vcc': 10, \n",
    "    'R1': 16e3,\n",
    "    'R2': 2.4e3,\n",
    "    'Re': 100,\n",
    "    #This circuit is fairly indepedent of beta (100-300)\n",
    "    'beta': 300,\n",
    "    'Vbe': 0.7\n",
    "}\n",
    "\n",
    "#Loop through betas\n",
    "R_Load=50\n",
    "R_Source=1000\n",
    "analysis = eval_common_collector_amp_circuit(common_collector_amp_circuit,R_Source, R_Load)\n",
    "\n",
    "\n",
    "print(f\"Ib = {analysis['dc']['Ib']:0.3e}A, Ic = {analysis['dc']['Ic']:.3e}A\")\n",
    "print(f\"Vth = {analysis['dc']['Vdc_th']:0.2f}V, Rb_th = {analysis['dc']['Rb_th']:.0f} ohms\")   \n",
    "print(f\"The Q point is Vce = {analysis['dc']['Vce']:0.2f}V, Ic = {analysis['dc']['Ic']:.3e}A\")\n",
    "print(f\"re = {analysis['ac']['re']:0.3e} ohm\")\n",
    "      \n",
    "# The reason the circuit \n",
    "print(f\"The predicted open load voltage gain is {analysis['amplifier']['gain']} or {20*np.log10(np.abs(analysis['amplifier']['gain']))} dB\")\n",
    "print(f\"Amplifier Zin = {analysis['amplifier']['Zin']:0.1f} ohms, Zout = {analysis['amplifier']['Zout']:0.1f} ohms, Zoutb = {analysis['amplifier']['Zoutb']:0.1f} ohms, ZoutQ = {analysis['amplifier']['ZoutQ']:0.1f} ohms\")\n",
    "      "
   ]
  },
  {
   "cell_type": "code",
   "execution_count": null,
   "metadata": {},
   "outputs": [],
   "source": [
    "#"
   ]
  }
 ],
 "metadata": {
  "kernelspec": {
   "display_name": "Python 3 (ipykernel)",
   "language": "python",
   "name": "python3"
  },
  "language_info": {
   "codemirror_mode": {
    "name": "ipython",
    "version": 3
   },
   "file_extension": ".py",
   "mimetype": "text/x-python",
   "name": "python",
   "nbconvert_exporter": "python",
   "pygments_lexer": "ipython3",
   "version": "3.10.11"
  }
 },
 "nbformat": 4,
 "nbformat_minor": 2
}
